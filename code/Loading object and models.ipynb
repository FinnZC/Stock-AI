{
 "cells": [
  {
   "cell_type": "code",
   "execution_count": 4,
   "metadata": {},
   "outputs": [
    {
     "name": "stdout",
     "output_type": "stream",
     "text": [
      "Populating the interactive namespace from numpy and matplotlib\n"
     ]
    }
   ],
   "source": [
    "from utilities import *\n",
    "# Normalise features\n",
    "# Find the optimal parameters C (inverse regulalisation strengths)\n",
    "# Find the best features to predict stock movement (up or down)\n",
    "# Convert probability into absolute values (stock % increase/decrease)\n",
    "# SVC, RandomForest, MinMax, LongShortTermMemory\n",
    "\n",
    "%matplotlib inline\n",
    "%pylab inline\n",
    "\n",
    "# Nice Formatting within Jupyter Notebook\n",
    "%matplotlib inline\n",
    "from IPython.display import display # Allows multiple displays from a single code-cell\n",
    "from jupyterthemes import jtplot\n",
    "\n",
    "#import classes\n",
    "from company import Company\n",
    "from onestep_baseline_company import OneStepBaselineCompany\n",
    "from onestep_lstm_company import OneStepLSTMCompany\n",
    "from multistep_baseline_company import MultiStepBaselineCompany\n",
    "from multistep_lstm_company import MultiStepLSTMCompany\n",
    "jtplot.style(theme='grade3')\n",
    "jtplot.style(theme='grade3')\n"
   ]
  },
  {
   "cell_type": "code",
   "execution_count": 6,
   "metadata": {},
   "outputs": [],
   "source": [
    "\n",
    "a = load_saved_model(\"MU_nlag_3_nseq_3_ind_1_train_01-04-2017_trainendteststart_10-04-2017_testend_20-04-2017\")"
   ]
  },
  {
   "cell_type": "code",
   "execution_count": 8,
   "metadata": {},
   "outputs": [
    {
     "data": {
      "text/plain": [
       "date\n",
       "1998-01-02 00:00:00    13.940\n",
       "1998-01-05 00:00:00    13.940\n",
       "1998-01-06 00:00:00    13.440\n",
       "1998-01-07 00:00:00    13.250\n",
       "1998-01-08 00:00:00    14.190\n",
       "1998-01-09 00:00:00    13.750\n",
       "1998-01-12 00:00:00    14.315\n",
       "1998-01-13 00:00:00    16.000\n",
       "1998-01-14 00:00:00    15.565\n",
       "1998-01-15 00:00:00    15.780\n",
       "1998-01-16 00:00:00    14.315\n",
       "1998-01-20 00:00:00    15.030\n",
       "1998-01-21 00:00:00    16.065\n",
       "1998-01-22 00:00:00    16.345\n",
       "1998-01-23 00:00:00    16.030\n",
       "1998-01-26 00:00:00    15.565\n",
       "1998-01-27 00:00:00    16.190\n",
       "1998-01-28 00:00:00    17.315\n",
       "1998-01-29 00:00:00    16.905\n",
       "1998-01-30 00:00:00    17.280\n",
       "1998-02-02 00:00:00    17.625\n",
       "1998-02-03 00:00:00    18.905\n",
       "1998-02-04 00:00:00    19.000\n",
       "1998-02-05 00:00:00    17.440\n",
       "1998-02-06 00:00:00    18.030\n",
       "1998-02-09 00:00:00    17.940\n",
       "1998-02-10 00:00:00    18.500\n",
       "1998-02-11 00:00:00    18.690\n",
       "1998-02-12 00:00:00    17.845\n",
       "1998-02-13 00:00:00    17.530\n",
       "                        ...  \n",
       "2019-01-16 00:00:00    33.580\n",
       "2019-01-17 00:00:00    33.880\n",
       "2019-01-18 00:00:00    35.760\n",
       "2019-01-22 00:00:00    33.870\n",
       "2019-01-23 00:00:00    34.240\n",
       "2019-01-24 00:00:00    36.590\n",
       "2019-01-25 00:00:00    38.960\n",
       "2019-01-28 00:00:00    38.080\n",
       "2019-01-29 00:00:00    37.390\n",
       "2019-01-30 00:00:00    38.240\n",
       "2019-01-31 00:00:00    38.220\n",
       "2019-02-01 00:00:00    39.600\n",
       "2019-02-04 00:00:00    39.470\n",
       "2019-02-05 00:00:00    39.370\n",
       "2019-02-06 00:00:00    41.520\n",
       "2019-02-07 00:00:00    39.380\n",
       "2019-02-08 00:00:00    38.580\n",
       "2019-02-11 00:00:00    38.580\n",
       "2019-02-12 00:00:00    40.400\n",
       "2019-02-13 00:00:00    41.680\n",
       "2019-02-14 00:00:00    42.230\n",
       "2019-02-15 00:00:00    41.990\n",
       "2019-02-19 00:00:00    41.960\n",
       "2019-02-20 00:00:00    42.210\n",
       "2019-02-21 00:00:00    41.530\n",
       "2019-02-22 00:00:00    42.570\n",
       "2019-02-25 00:00:00    42.750\n",
       "2019-02-26 00:00:00    42.960\n",
       "2019-02-27 00:00:00    41.320\n",
       "2019-02-27 16:00:01       NaN\n",
       "Name: Share Price, Length: 5323, dtype: float64"
      ]
     },
     "execution_count": 8,
     "metadata": {},
     "output_type": "execute_result"
    }
   ],
   "source": [
    "a.raw_pd[\"Share Price\"]"
   ]
  },
  {
   "cell_type": "code",
   "execution_count": null,
   "metadata": {},
   "outputs": [],
   "source": []
  }
 ],
 "metadata": {
  "kernelspec": {
   "display_name": "Python 3",
   "language": "python",
   "name": "python3"
  },
  "language_info": {
   "codemirror_mode": {
    "name": "ipython",
    "version": 3
   },
   "file_extension": ".py",
   "mimetype": "text/x-python",
   "name": "python",
   "nbconvert_exporter": "python",
   "pygments_lexer": "ipython3",
   "version": "3.5.6"
  }
 },
 "nbformat": 4,
 "nbformat_minor": 2
}

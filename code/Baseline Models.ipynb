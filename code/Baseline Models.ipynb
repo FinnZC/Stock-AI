{
 "cells": [
  {
   "cell_type": "code",
   "execution_count": null,
   "metadata": {},
   "outputs": [],
   "source": [
    "# Normalise features\n",
    "# Find the optimal parameters C (inverse regulalisation strengths)\n",
    "# Find the best features to predict stock movement (up or down)\n",
    "# Convert probability into absolute values (stock % increase/decrease)\n",
    "# SVC, RandomForest, MinMax, LongShortTermMemory\n",
    "\n",
    "%matplotlib inline\n",
    "%pylab inline\n",
    "\n",
    "# Nice Formatting within Jupyter Notebook\n",
    "%matplotlib inline\n",
    "from IPython.display import display # Allows multiple displays from a single code-cell\n",
    "from jupyterthemes import jtplot\n",
    "\n",
    "#import classes\n",
    "from company import Company\n",
    "from onestep_baseline_company import OneStepBaselineCompany\n",
    "from onestep_lstm_company import OneStepLSTMCompany\n",
    "from multistep_baseline_company import MultiStepBaselineCompany\n",
    "from multistep_lstm_company import MultiStepLSTMCompany\n",
    "\n",
    "jtplot.style(theme='grade3')\n",
    "jtplot.style(theme='grade3')\n",
    "jtplot.style(theme='grade3')\n"
   ]
  },
  {
   "cell_type": "code",
   "execution_count": null,
   "metadata": {},
   "outputs": [],
   "source": [
    "start_train_date = \"01/01/2018\"\n",
    "end_train_start_test_date = \"10/01/2018\"\n",
    "end_test_date = \"20/01/2018\"\n",
    "company_baseline = OneStepBaselineCompany(\"MU\", start_train_date, end_train_start_test_date, end_test_date)\n",
    "company_baseline.train()\n",
    "predictions = company_baseline.predict()\n",
    "display(predictions)\n",
    "company_baseline.plot(predictions)\n",
    "rmse_score = company_baseline.score(metric=\"rmse\", predictions=predictions)\n",
    "print(\"Baseline RMSE Score: %.3f US dollar\" % rmse_score)\n",
    "trend_score = company_baseline.score(metric=\"trend\", predictions=predictions)\n",
    "print(\"Baseline trend Score: %.1f %%\" % (trend_score*100))\n"
   ]
  },
  {
   "cell_type": "code",
   "execution_count": null,
   "metadata": {},
   "outputs": [],
   "source": [
    "# load dataset\n",
    "start_train_date = \"01/01/2018\"\n",
    "end_train_start_test_date = \"01/05/2018\"\n",
    "end_test_date = \"01/10/2018\"\n",
    "\n",
    "multi_step_baseline = MultiStepBaselineCompany(\"MU\", start_train_date, end_train_start_test_date, end_test_date, \n",
    "                                               n_lag=1, n_seq=3)\n",
    "predictions = multi_step_baseline.predict()\n",
    "#display(predictions)\n",
    "#display(multi_step_baseline.test_raw_series.values)\n",
    "#display(type(multi_step_baseline.test_raw_series.values))\n",
    "multi_step_baseline.plot(predictions)\n",
    "multi_step_baseline.score(predictions)"
   ]
  }
 ],
 "metadata": {
  "kernelspec": {
   "display_name": "Python 3",
   "language": "python",
   "name": "python3"
  },
  "language_info": {
   "codemirror_mode": {
    "name": "ipython",
    "version": 3
   },
   "file_extension": ".py",
   "mimetype": "text/x-python",
   "name": "python",
   "nbconvert_exporter": "python",
   "pygments_lexer": "ipython3",
   "version": "3.5.6"
  }
 },
 "nbformat": 4,
 "nbformat_minor": 2
}

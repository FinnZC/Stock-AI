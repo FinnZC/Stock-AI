{
 "cells": [
  {
   "cell_type": "code",
   "execution_count": 1,
   "metadata": {},
   "outputs": [
    {
     "name": "stdout",
     "output_type": "stream",
     "text": [
      "Populating the interactive namespace from numpy and matplotlib\n"
     ]
    },
    {
     "name": "stderr",
     "output_type": "stream",
     "text": [
      "Using TensorFlow backend.\n"
     ]
    }
   ],
   "source": [
    "# Normalise features\n",
    "# Find the optimal parameters C (inverse regulalisation strengths)\n",
    "# Find the best features to predict stock movement (up or down)\n",
    "# Convert probability into absolute values (stock % increase/decrease)\n",
    "# SVC, RandomForest, MinMax, LongShortTermMemory\n",
    "\n",
    "%matplotlib inline\n",
    "%pylab inline\n",
    "\n",
    "# Nice Formatting within Jupyter Notebook\n",
    "%matplotlib inline\n",
    "from IPython.display import display # Allows multiple displays from a single code-cell\n",
    "from jupyterthemes import jtplot\n",
    "\n",
    "#import classes\n",
    "from utilities import *\n",
    "from company import Company\n",
    "from onestep_baseline_company import OneStepBaselineCompany\n",
    "from onestep_lstm_company import OneStepLSTMCompany\n",
    "from multistep_baseline_company import MultiStepBaselineCompany\n",
    "from multistep_lstm_company import MultiStepLSTMCompany\n",
    "\n",
    "jtplot.style(theme='grade3')\n",
    "jtplot.style(theme='grade3')\n",
    "jtplot.style(theme='grade3')\n"
   ]
  },
  {
   "cell_type": "code",
   "execution_count": 2,
   "metadata": {},
   "outputs": [
    {
     "name": "stdout",
     "output_type": "stream",
     "text": [
      "Preprocessing the data\n",
      "Downloading  sma\n",
      "Downloading  rsi\n",
      "Fitting the model\n"
     ]
    },
    {
     "data": {
      "text/plain": [
       "'train X data'"
      ]
     },
     "metadata": {},
     "output_type": "display_data"
    },
    {
     "data": {
      "text/plain": [
       "array([[[-0.65      ,  0.53956835, -0.41415308,  1.        ,\n",
       "          1.        ,  0.99917509, -0.24637681,  0.52542373,\n",
       "          0.02709837]],\n",
       "\n",
       "       [[ 1.        ,  1.        ,  1.        , -0.35      ,\n",
       "         -0.35251799,  0.02709837, -0.79710145, -0.83050847,\n",
       "         -0.71713755]],\n",
       "\n",
       "       [[-0.35      , -0.35251799,  0.02752218, -0.825     ,\n",
       "         -0.92805755, -0.71713755, -0.1884058 , -0.76271186,\n",
       "          0.10138173]],\n",
       "\n",
       "       [[-0.825     , -0.92805755, -0.71702084, -0.3       ,\n",
       "         -0.89928058,  0.10138173, -1.        , -1.        ,\n",
       "         -1.        ]],\n",
       "\n",
       "       [[-0.3       , -0.89928058,  0.10183619, -1.        ,\n",
       "         -1.        , -1.        ,  1.        ,  1.        ,\n",
       "          1.        ]],\n",
       "\n",
       "       [[-1.        , -1.        , -1.        ,  0.725     ,\n",
       "         -0.15107914,  1.        , -0.33333333,  0.55932203,\n",
       "         -0.10121675]]])"
      ]
     },
     "metadata": {},
     "output_type": "display_data"
    },
    {
     "data": {
      "text/plain": [
       "'train y data'"
      ]
     },
     "metadata": {},
     "output_type": "display_data"
    },
    {
     "data": {
      "text/plain": [
       "array([[ 2.94209102e-15,  3.38709677e-01, -1.12903226e-01],\n",
       "       [ 3.38709677e-01, -1.12903226e-01,  1.00000000e+00],\n",
       "       [-1.12903226e-01,  1.00000000e+00,  2.58064516e-01],\n",
       "       [ 1.00000000e+00,  2.58064516e-01, -1.00000000e+00],\n",
       "       [ 2.58064516e-01, -1.00000000e+00, -3.22580645e-01],\n",
       "       [-1.00000000e+00, -3.22580645e-01, -3.70967742e-01]])"
      ]
     },
     "metadata": {},
     "output_type": "display_data"
    },
    {
     "name": "stdout",
     "output_type": "stream",
     "text": [
      "Finished fitting the model, time taken to train: 28.7 s\n",
      "Saving object and model\n"
     ]
    }
   ],
   "source": [
    "start_train_date = \"01/04/2017\"\n",
    "end_train_start_test_date = \"10/04/2017\"\n",
    "end_test_date = \"20/04/2017\"\n",
    "\n",
    "obj = MultiStepLSTMCompany(\"MU\", start_train_date, end_train_start_test_date, end_test_date, \n",
    "                         n_lag=3, n_seq=3, n_epochs=3000, n_batch=1, n_neurons=4, tech_indicators=[\"sma\", \"rsi\"])\n",
    "obj.train()"
   ]
  },
  {
   "cell_type": "code",
   "execution_count": 3,
   "metadata": {},
   "outputs": [
    {
     "data": {
      "text/html": [
       "<div>\n",
       "<style scoped>\n",
       "    .dataframe tbody tr th:only-of-type {\n",
       "        vertical-align: middle;\n",
       "    }\n",
       "\n",
       "    .dataframe tbody tr th {\n",
       "        vertical-align: top;\n",
       "    }\n",
       "\n",
       "    .dataframe thead th {\n",
       "        text-align: right;\n",
       "    }\n",
       "</style>\n",
       "<table border=\"1\" class=\"dataframe\">\n",
       "  <thead>\n",
       "    <tr style=\"text-align: right;\">\n",
       "      <th></th>\n",
       "      <th>Share Price(t-3)</th>\n",
       "      <th>SMA(t-3)</th>\n",
       "      <th>RSI(t-3)</th>\n",
       "      <th>Share Price(t-2)</th>\n",
       "      <th>SMA(t-2)</th>\n",
       "      <th>RSI(t-2)</th>\n",
       "      <th>Share Price(t-1)</th>\n",
       "      <th>SMA(t-1)</th>\n",
       "      <th>RSI(t-1)</th>\n",
       "      <th>Share Price(t)</th>\n",
       "      <th>Share Price(t+1)</th>\n",
       "      <th>Share Price(t+2)</th>\n",
       "    </tr>\n",
       "    <tr>\n",
       "      <th>date</th>\n",
       "      <th></th>\n",
       "      <th></th>\n",
       "      <th></th>\n",
       "      <th></th>\n",
       "      <th></th>\n",
       "      <th></th>\n",
       "      <th></th>\n",
       "      <th></th>\n",
       "      <th></th>\n",
       "      <th></th>\n",
       "      <th></th>\n",
       "      <th></th>\n",
       "    </tr>\n",
       "  </thead>\n",
       "  <tbody>\n",
       "    <tr>\n",
       "      <th>2017-04-03</th>\n",
       "      <td>-0.19</td>\n",
       "      <td>0.1975</td>\n",
       "      <td>-1.7286</td>\n",
       "      <td>0.47</td>\n",
       "      <td>0.2135</td>\n",
       "      <td>1.6986</td>\n",
       "      <td>-0.07</td>\n",
       "      <td>0.1665</td>\n",
       "      <td>-0.6582</td>\n",
       "      <td>-0.26</td>\n",
       "      <td>-0.05</td>\n",
       "      <td>-0.33</td>\n",
       "    </tr>\n",
       "    <tr>\n",
       "      <th>2017-04-04</th>\n",
       "      <td>0.47</td>\n",
       "      <td>0.2135</td>\n",
       "      <td>1.6986</td>\n",
       "      <td>-0.07</td>\n",
       "      <td>0.1665</td>\n",
       "      <td>-0.6582</td>\n",
       "      <td>-0.26</td>\n",
       "      <td>0.1465</td>\n",
       "      <td>-2.4626</td>\n",
       "      <td>-0.05</td>\n",
       "      <td>-0.33</td>\n",
       "      <td>0.36</td>\n",
       "    </tr>\n",
       "    <tr>\n",
       "      <th>2017-04-05</th>\n",
       "      <td>-0.07</td>\n",
       "      <td>0.1665</td>\n",
       "      <td>-0.6582</td>\n",
       "      <td>-0.26</td>\n",
       "      <td>0.1465</td>\n",
       "      <td>-2.4626</td>\n",
       "      <td>-0.05</td>\n",
       "      <td>0.1475</td>\n",
       "      <td>-0.4781</td>\n",
       "      <td>-0.33</td>\n",
       "      <td>0.36</td>\n",
       "      <td>-0.10</td>\n",
       "    </tr>\n",
       "    <tr>\n",
       "      <th>2017-04-06</th>\n",
       "      <td>-0.26</td>\n",
       "      <td>0.1465</td>\n",
       "      <td>-2.4626</td>\n",
       "      <td>-0.05</td>\n",
       "      <td>0.1475</td>\n",
       "      <td>-0.4781</td>\n",
       "      <td>-0.33</td>\n",
       "      <td>0.1440</td>\n",
       "      <td>-3.1484</td>\n",
       "      <td>0.36</td>\n",
       "      <td>-0.10</td>\n",
       "      <td>-0.88</td>\n",
       "    </tr>\n",
       "    <tr>\n",
       "      <th>2017-04-07</th>\n",
       "      <td>-0.05</td>\n",
       "      <td>0.1475</td>\n",
       "      <td>-0.4781</td>\n",
       "      <td>-0.33</td>\n",
       "      <td>0.1440</td>\n",
       "      <td>-3.1484</td>\n",
       "      <td>0.36</td>\n",
       "      <td>0.1735</td>\n",
       "      <td>1.7006</td>\n",
       "      <td>-0.10</td>\n",
       "      <td>-0.88</td>\n",
       "      <td>-0.46</td>\n",
       "    </tr>\n",
       "    <tr>\n",
       "      <th>2017-04-10</th>\n",
       "      <td>-0.33</td>\n",
       "      <td>0.1440</td>\n",
       "      <td>-3.1484</td>\n",
       "      <td>0.36</td>\n",
       "      <td>0.1735</td>\n",
       "      <td>1.7006</td>\n",
       "      <td>-0.10</td>\n",
       "      <td>0.1670</td>\n",
       "      <td>-0.9693</td>\n",
       "      <td>-0.88</td>\n",
       "      <td>-0.46</td>\n",
       "      <td>-0.49</td>\n",
       "    </tr>\n",
       "    <tr>\n",
       "      <th>2017-04-11</th>\n",
       "      <td>0.36</td>\n",
       "      <td>0.1735</td>\n",
       "      <td>1.7006</td>\n",
       "      <td>-0.10</td>\n",
       "      <td>0.1670</td>\n",
       "      <td>-0.9693</td>\n",
       "      <td>-0.88</td>\n",
       "      <td>0.0970</td>\n",
       "      <td>-7.8115</td>\n",
       "      <td>-0.46</td>\n",
       "      <td>-0.49</td>\n",
       "      <td>0.05</td>\n",
       "    </tr>\n",
       "    <tr>\n",
       "      <th>2017-04-12</th>\n",
       "      <td>-0.10</td>\n",
       "      <td>0.1670</td>\n",
       "      <td>-0.9693</td>\n",
       "      <td>-0.88</td>\n",
       "      <td>0.0970</td>\n",
       "      <td>-7.8115</td>\n",
       "      <td>-0.46</td>\n",
       "      <td>0.0800</td>\n",
       "      <td>-3.5638</td>\n",
       "      <td>-0.49</td>\n",
       "      <td>0.05</td>\n",
       "      <td>0.39</td>\n",
       "    </tr>\n",
       "    <tr>\n",
       "      <th>2017-04-13</th>\n",
       "      <td>-0.88</td>\n",
       "      <td>0.0970</td>\n",
       "      <td>-7.8115</td>\n",
       "      <td>-0.46</td>\n",
       "      <td>0.0800</td>\n",
       "      <td>-3.5638</td>\n",
       "      <td>-0.49</td>\n",
       "      <td>0.0285</td>\n",
       "      <td>-3.5147</td>\n",
       "      <td>0.05</td>\n",
       "      <td>0.39</td>\n",
       "      <td>0.01</td>\n",
       "    </tr>\n",
       "    <tr>\n",
       "      <th>2017-04-17</th>\n",
       "      <td>-0.46</td>\n",
       "      <td>0.0800</td>\n",
       "      <td>-3.5638</td>\n",
       "      <td>-0.49</td>\n",
       "      <td>0.0285</td>\n",
       "      <td>-3.5147</td>\n",
       "      <td>0.05</td>\n",
       "      <td>0.0350</td>\n",
       "      <td>0.3282</td>\n",
       "      <td>0.39</td>\n",
       "      <td>0.01</td>\n",
       "      <td>0.12</td>\n",
       "    </tr>\n",
       "    <tr>\n",
       "      <th>2017-04-18</th>\n",
       "      <td>-0.49</td>\n",
       "      <td>0.0285</td>\n",
       "      <td>-3.5147</td>\n",
       "      <td>0.05</td>\n",
       "      <td>0.0350</td>\n",
       "      <td>0.3282</td>\n",
       "      <td>0.39</td>\n",
       "      <td>0.0665</td>\n",
       "      <td>2.5347</td>\n",
       "      <td>0.01</td>\n",
       "      <td>0.12</td>\n",
       "      <td>0.70</td>\n",
       "    </tr>\n",
       "    <tr>\n",
       "      <th>2017-04-19</th>\n",
       "      <td>0.05</td>\n",
       "      <td>0.0350</td>\n",
       "      <td>0.3282</td>\n",
       "      <td>0.39</td>\n",
       "      <td>0.0665</td>\n",
       "      <td>2.5347</td>\n",
       "      <td>0.01</td>\n",
       "      <td>0.0465</td>\n",
       "      <td>0.0647</td>\n",
       "      <td>0.12</td>\n",
       "      <td>0.70</td>\n",
       "      <td>-0.64</td>\n",
       "    </tr>\n",
       "    <tr>\n",
       "      <th>2017-04-20</th>\n",
       "      <td>0.39</td>\n",
       "      <td>0.0665</td>\n",
       "      <td>2.5347</td>\n",
       "      <td>0.01</td>\n",
       "      <td>0.0465</td>\n",
       "      <td>0.0647</td>\n",
       "      <td>0.12</td>\n",
       "      <td>0.0870</td>\n",
       "      <td>0.8018</td>\n",
       "      <td>0.70</td>\n",
       "      <td>-0.64</td>\n",
       "      <td>-0.75</td>\n",
       "    </tr>\n",
       "  </tbody>\n",
       "</table>\n",
       "</div>"
      ],
      "text/plain": [
       "            Share Price(t-3)  SMA(t-3)  RSI(t-3)  Share Price(t-2)  SMA(t-2)  \\\n",
       "date                                                                           \n",
       "2017-04-03             -0.19    0.1975   -1.7286              0.47    0.2135   \n",
       "2017-04-04              0.47    0.2135    1.6986             -0.07    0.1665   \n",
       "2017-04-05             -0.07    0.1665   -0.6582             -0.26    0.1465   \n",
       "2017-04-06             -0.26    0.1465   -2.4626             -0.05    0.1475   \n",
       "2017-04-07             -0.05    0.1475   -0.4781             -0.33    0.1440   \n",
       "2017-04-10             -0.33    0.1440   -3.1484              0.36    0.1735   \n",
       "2017-04-11              0.36    0.1735    1.7006             -0.10    0.1670   \n",
       "2017-04-12             -0.10    0.1670   -0.9693             -0.88    0.0970   \n",
       "2017-04-13             -0.88    0.0970   -7.8115             -0.46    0.0800   \n",
       "2017-04-17             -0.46    0.0800   -3.5638             -0.49    0.0285   \n",
       "2017-04-18             -0.49    0.0285   -3.5147              0.05    0.0350   \n",
       "2017-04-19              0.05    0.0350    0.3282              0.39    0.0665   \n",
       "2017-04-20              0.39    0.0665    2.5347              0.01    0.0465   \n",
       "\n",
       "            RSI(t-2)  Share Price(t-1)  SMA(t-1)  RSI(t-1)  Share Price(t)  \\\n",
       "date                                                                         \n",
       "2017-04-03    1.6986             -0.07    0.1665   -0.6582           -0.26   \n",
       "2017-04-04   -0.6582             -0.26    0.1465   -2.4626           -0.05   \n",
       "2017-04-05   -2.4626             -0.05    0.1475   -0.4781           -0.33   \n",
       "2017-04-06   -0.4781             -0.33    0.1440   -3.1484            0.36   \n",
       "2017-04-07   -3.1484              0.36    0.1735    1.7006           -0.10   \n",
       "2017-04-10    1.7006             -0.10    0.1670   -0.9693           -0.88   \n",
       "2017-04-11   -0.9693             -0.88    0.0970   -7.8115           -0.46   \n",
       "2017-04-12   -7.8115             -0.46    0.0800   -3.5638           -0.49   \n",
       "2017-04-13   -3.5638             -0.49    0.0285   -3.5147            0.05   \n",
       "2017-04-17   -3.5147              0.05    0.0350    0.3282            0.39   \n",
       "2017-04-18    0.3282              0.39    0.0665    2.5347            0.01   \n",
       "2017-04-19    2.5347              0.01    0.0465    0.0647            0.12   \n",
       "2017-04-20    0.0647              0.12    0.0870    0.8018            0.70   \n",
       "\n",
       "            Share Price(t+1)  Share Price(t+2)  \n",
       "date                                            \n",
       "2017-04-03             -0.05             -0.33  \n",
       "2017-04-04             -0.33              0.36  \n",
       "2017-04-05              0.36             -0.10  \n",
       "2017-04-06             -0.10             -0.88  \n",
       "2017-04-07             -0.88             -0.46  \n",
       "2017-04-10             -0.46             -0.49  \n",
       "2017-04-11             -0.49              0.05  \n",
       "2017-04-12              0.05              0.39  \n",
       "2017-04-13              0.39              0.01  \n",
       "2017-04-17              0.01              0.12  \n",
       "2017-04-18              0.12              0.70  \n",
       "2017-04-19              0.70             -0.64  \n",
       "2017-04-20             -0.64             -0.75  "
      ]
     },
     "metadata": {},
     "output_type": "display_data"
    },
    {
     "data": {
      "text/plain": [
       "date\n",
       "2017-04-03    28.64\n",
       "2017-04-04    28.59\n",
       "2017-04-05    28.26\n",
       "2017-04-06    28.62\n",
       "2017-04-07    28.52\n",
       "2017-04-10    27.64\n",
       "Name: Share Price, dtype: float64"
      ]
     },
     "metadata": {},
     "output_type": "display_data"
    },
    {
     "data": {
      "text/plain": [
       "date\n",
       "2017-04-11    27.18\n",
       "2017-04-12    26.69\n",
       "2017-04-13    26.74\n",
       "2017-04-17    27.13\n",
       "2017-04-18    27.14\n",
       "2017-04-19    27.26\n",
       "2017-04-20    27.96\n",
       "Name: Share Price, dtype: float64"
      ]
     },
     "metadata": {},
     "output_type": "display_data"
    }
   ],
   "source": [
    "display(obj.supervised_pd)\n",
    "display(obj.train_raw_series)\n",
    "display(obj.test_raw_series)"
   ]
  },
  {
   "cell_type": "code",
   "execution_count": 4,
   "metadata": {},
   "outputs": [
    {
     "name": "stdout",
     "output_type": "stream",
     "text": [
      "index DatetimeIndex(['2017-04-11', '2017-04-12', '2017-04-13', '2017-04-17',\n",
      "               '2017-04-18', '2017-04-19', '2017-04-20'],\n",
      "              dtype='datetime64[ns]', name='date', freq=None)\n",
      "X:  [ 0.725      -0.15107914  1.00082525 -0.425      -0.3381295  -0.10121675\n",
      " -2.5942029  -4.18644068 -2.9233244 ] y:  [-0.32258065 -0.37096774  0.5       ]  pred:  [1.3411045, -0.5484847, -1.962237]\n",
      "X:  [-0.425      -0.3381295  -0.10084588 -2.375      -2.35251799 -2.9233244\n",
      " -1.37681159 -5.33898305 -1.1713343 ] y:  [-0.37096774  0.5         1.0483871 ]  pred:  [1.4874412, -0.6487383, -2.1164753]\n",
      "X:  [-2.375      -2.35251799 -2.92411801 -1.325      -2.84172662 -1.1713343\n",
      " -1.46376812 -8.83050847 -1.1510827 ] y:  [0.5        1.0483871  0.43548387]  pred:  [1.7569661, -0.7168004, -2.1328502]\n",
      "X:  [-1.325      -2.84172662 -1.17140499 -1.4        -4.32374101 -1.1510827\n",
      "  0.10144928 -8.38983051  0.43394514] y:  [1.0483871  0.43548387 0.61290323]  pred:  [1.3284309, -0.63596493, -2.1595411]\n",
      "X:  [-1.4        -4.32374101 -1.15114504 -0.05       -4.13669065  0.43394514\n",
      "  1.08695652 -6.25423729  1.3440297 ] y:  [0.43548387 0.61290323 1.5483871 ]  pred:  [0.14053792, -0.4445517, -1.7887063]\n",
      "X:  [-0.05       -4.13669065  0.43453683  0.8        -3.23021583  1.3440297\n",
      " -0.01449275 -7.61016949  0.32526294] y:  [ 0.61290323  1.5483871  -0.61290323]  pred:  [1.1557513, -0.34235987, -1.8089138]\n",
      "X:  [ 0.8        -3.23021583  1.34499691 -0.15       -3.8057554   0.32526294\n",
      "  0.30434783 -4.86440678  0.62928439] y:  [ 1.5483871  -0.61290323 -0.79032258]  pred:  [1.6240141, -0.6935644, -2.1446683]\n",
      "Inverse scale  Original Pred:  [[ 0.          0.          0.          0.          0.          0.\n",
      "   0.          0.          0.          1.34110451 -0.54848468 -1.962237  ]]    After Scaling:  [ 0.57148479 -0.6000605  -1.47658694]\n",
      "Inverse difference Pred:  0.5714847946166983   + Reference Price: 27.64  =  28.2114847946167\n",
      "Inverse difference Pred:  -0.600060503482818   + Reference Price: 28.2114847946167  =  27.61142429113388\n",
      "Inverse difference Pred:  -1.476586940288542   + Reference Price: 27.61142429113388  =  26.134837350845338\n",
      "Final inverted values:  [28.2114847946167, 27.61142429113388, 26.134837350845338]\n",
      "Inverse scale  Original Pred:  [[ 0.          0.          0.          0.          0.          0.\n",
      "   0.          0.          0.          1.48744118 -0.64873832 -2.11647534]]    After Scaling:  [ 0.66221353 -0.66221776 -1.57221471]\n",
      "Inverse difference Pred:  0.662213532924651   + Reference Price: 27.18  =  27.84221353292465\n",
      "Inverse difference Pred:  -0.6622177612781518   + Reference Price: 27.84221353292465  =  27.179995771646496\n",
      "Inverse difference Pred:  -1.5722147130966169   + Reference Price: 27.179995771646496  =  25.60778105854988\n",
      "Final inverted values:  [27.84221353292465, 27.179995771646496, 25.60778105854988]\n",
      "Inverse scale  Original Pred:  [[ 0.          0.          0.          0.          0.          0.\n",
      "   0.          0.          0.          1.75696611 -0.71680039 -2.13285017]]    After Scaling:  [ 0.82931899 -0.70441624 -1.58236711]\n",
      "Inverse difference Pred:  0.8293189907073962   + Reference Price: 26.69  =  27.519318990707397\n",
      "Inverse difference Pred:  -0.7044162428379052   + Reference Price: 27.519318990707397  =  26.814902747869493\n",
      "Inverse difference Pred:  -1.582367105484007   + Reference Price: 26.814902747869493  =  25.232535642385486\n",
      "Final inverted values:  [27.519318990707397, 26.814902747869493, 25.232535642385486]\n",
      "Inverse scale  Original Pred:  [[ 0.          0.          0.          0.          0.          0.\n",
      "   0.          0.          0.          1.32843089 -0.63596493 -2.15954113]]    After Scaling:  [ 0.56362715 -0.65429826 -1.5989155 ]\n",
      "Inverse difference Pred:  0.5636271524429312   + Reference Price: 26.74  =  27.303627152442928\n",
      "Inverse difference Pred:  -0.6542982566356652   + Reference Price: 27.303627152442928  =  26.649328895807262\n",
      "Inverse difference Pred:  -1.5989155006408673   + Reference Price: 26.649328895807262  =  25.050413395166395\n",
      "Final inverted values:  [27.303627152442928, 26.649328895807262, 25.050413395166395]\n",
      "Inverse scale  Original Pred:  [[ 0.          0.          0.          0.          0.          0.\n",
      "   0.          0.          0.          0.14053792 -0.44455171 -1.7887063 ]]    After Scaling:  [-0.17286649 -0.53562206 -1.36899791]\n",
      "Inverse difference Pred:  -0.1728664910793304   + Reference Price: 27.13  =  26.95713350892067\n",
      "Inverse difference Pred:  -0.5356220579147334   + Reference Price: 26.95713350892067  =  26.421511451005937\n",
      "Inverse difference Pred:  -1.3689979076385483   + Reference Price: 26.421511451005937  =  25.05251354336739\n",
      "Final inverted values:  [26.95713350892067, 26.421511451005937, 25.05251354336739]\n",
      "Inverse scale  Original Pred:  [[ 0.          0.          0.          0.          0.          0.\n",
      "   0.          0.          0.          1.15575135 -0.34235987 -1.80891383]]    After Scaling:  [ 0.45656584 -0.47226312 -1.38152657]\n",
      "Inverse difference Pred:  0.45656583547592083   + Reference Price: 27.14  =  27.59656583547592\n",
      "Inverse difference Pred:  -0.47226311981677965   + Reference Price: 27.59656583547592  =  27.12430271565914\n",
      "Inverse difference Pred:  -1.3815265727043138   + Reference Price: 27.12430271565914  =  25.742776142954828\n",
      "Final inverted values:  [27.59656583547592, 27.12430271565914, 25.742776142954828]\n",
      "Inverse scale  Original Pred:  [[ 0.          0.          0.          0.          0.          0.\n",
      "   0.          0.          0.          1.62401414 -0.69356441 -2.14466834]]    After Scaling:  [ 0.74688877 -0.69000994 -1.58969437]\n",
      "Inverse difference Pred:  0.7468887662887561   + Reference Price: 27.26  =  28.006888766288757\n",
      "Inverse difference Pred:  -0.6900099372863763   + Reference Price: 28.006888766288757  =  27.31687882900238\n",
      "Inverse difference Pred:  -1.589694371223448   + Reference Price: 27.31687882900238  =  25.727184457778932\n",
      "Final inverted values:  [28.006888766288757, 27.31687882900238, 25.727184457778932]\n",
      "Predictions after inverse transform\n"
     ]
    },
    {
     "data": {
      "text/plain": [
       "'actual'"
      ]
     },
     "metadata": {},
     "output_type": "display_data"
    },
    {
     "data": {
      "text/plain": [
       "array([[27.18, 26.69, 26.74],\n",
       "       [26.69, 26.74, 27.13],\n",
       "       [26.74, 27.13, 27.14],\n",
       "       [27.13, 27.14, 27.26],\n",
       "       [27.14, 27.26, 27.96]])"
      ]
     },
     "metadata": {},
     "output_type": "display_data"
    },
    {
     "data": {
      "text/plain": [
       "'predicted'"
      ]
     },
     "metadata": {},
     "output_type": "display_data"
    },
    {
     "data": {
      "text/plain": [
       "array([[28.21148479, 27.61142429, 26.13483735],\n",
       "       [27.84221353, 27.17999577, 25.60778106],\n",
       "       [27.51931899, 26.81490275, 25.23253564],\n",
       "       [27.30362715, 26.6493289 , 25.0504134 ],\n",
       "       [26.95713351, 26.42151145, 25.05251354]])"
      ]
     },
     "metadata": {},
     "output_type": "display_data"
    },
    {
     "name": "stdout",
     "output_type": "stream",
     "text": [
      "\n",
      "Calculating trend score for  1\n",
      "Price 1 day before:  27.64\n",
      "Actual price:  27.18  | Predicted price:  28.2114847946167\n",
      "Actual trend:  down  | Predicted trend:  up\n",
      "Price 1 day before:  27.18\n",
      "Actual price:  26.69  | Predicted price:  27.84221353292465\n",
      "Actual trend:  down  | Predicted trend:  up\n",
      "Price 1 day before:  26.69\n",
      "Actual price:  26.74  | Predicted price:  27.519318990707397\n",
      "Actual trend:  up  | Predicted trend:  up\n",
      "Price 1 day before:  26.74\n",
      "Actual price:  27.13  | Predicted price:  27.303627152442928\n",
      "Actual trend:  up  | Predicted trend:  up\n",
      "Price 1 day before:  27.13\n",
      "Actual price:  27.14  | Predicted price:  26.95713350892067\n",
      "Actual trend:  up  | Predicted trend:  down\n",
      "Correct counts:  2   Size of test set: 7\n",
      "\n",
      "Calculating trend score for  2\n",
      "Price 1 day before:  27.18\n",
      "Actual price:  26.69  | Predicted price:  27.61142429113388\n",
      "Actual trend:  down  | Predicted trend:  up\n",
      "Price 1 day before:  26.69\n",
      "Actual price:  26.74  | Predicted price:  27.179995771646496\n",
      "Actual trend:  up  | Predicted trend:  up\n",
      "Price 1 day before:  26.74\n",
      "Actual price:  27.13  | Predicted price:  26.814902747869493\n",
      "Actual trend:  up  | Predicted trend:  up\n",
      "Price 1 day before:  27.13\n",
      "Actual price:  27.14  | Predicted price:  26.649328895807262\n",
      "Actual trend:  up  | Predicted trend:  down\n",
      "Correct counts:  2   Size of test set: 7\n",
      "\n",
      "Calculating trend score for  3\n",
      "Price 1 day before:  26.69\n",
      "Actual price:  26.74  | Predicted price:  26.134837350845338\n",
      "Actual trend:  up  | Predicted trend:  down\n",
      "Price 1 day before:  26.74\n",
      "Actual price:  27.13  | Predicted price:  25.60778105854988\n",
      "Actual trend:  up  | Predicted trend:  down\n",
      "Price 1 day before:  27.13\n",
      "Actual price:  27.14  | Predicted price:  25.232535642385486\n",
      "Actual trend:  up  | Predicted trend:  down\n",
      "Correct counts:  0   Size of test set: 7\n",
      "LSTM trend Score:  [0.2857142857142857, 0.2857142857142857, 0.0]\n"
     ]
    },
    {
     "data": {
      "text/plain": [
       "'actual'"
      ]
     },
     "metadata": {},
     "output_type": "display_data"
    },
    {
     "data": {
      "text/plain": [
       "array([[27.18, 26.69, 26.74],\n",
       "       [26.69, 26.74, 27.13],\n",
       "       [26.74, 27.13, 27.14],\n",
       "       [27.13, 27.14, 27.26],\n",
       "       [27.14, 27.26, 27.96]])"
      ]
     },
     "metadata": {},
     "output_type": "display_data"
    },
    {
     "data": {
      "text/plain": [
       "'predicted'"
      ]
     },
     "metadata": {},
     "output_type": "display_data"
    },
    {
     "data": {
      "text/plain": [
       "array([[28.21148479, 27.61142429, 26.13483735],\n",
       "       [27.84221353, 27.17999577, 25.60778106],\n",
       "       [27.51931899, 26.81490275, 25.23253564],\n",
       "       [27.30362715, 26.6493289 , 25.0504134 ],\n",
       "       [26.95713351, 26.42151145, 25.05251354]])"
      ]
     },
     "metadata": {},
     "output_type": "display_data"
    },
    {
     "name": "stdout",
     "output_type": "stream",
     "text": [
      "t+1 RMSE: 0.782621\n",
      "t+2 RMSE: 0.645868\n",
      "t+3 RMSE: 1.982803\n",
      "LSTM RMSE Score: US dollar [0.7826214331185234, 0.6458678596961541, 1.9828032213496793]\n"
     ]
    }
   ],
   "source": [
    "predictions = obj.predict()\n",
    "\n",
    "trend_score = obj.score(metric=\"trend\", predictions=predictions)\n",
    "print(\"LSTM trend Score: \", trend_score)\n",
    "lstm_score = obj.score(metric=\"rmse\", predictions=predictions)\n",
    "print(\"LSTM RMSE Score: US dollar\", lstm_score)"
   ]
  },
  {
   "cell_type": "code",
   "execution_count": 5,
   "metadata": {},
   "outputs": [],
   "source": [
    "obj.save()\n",
    "#obj.time()"
   ]
  },
  {
   "cell_type": "code",
   "execution_count": 6,
   "metadata": {},
   "outputs": [],
   "source": [
    "\n",
    "saved_obj = load_saved_model(\"MU_nlag_1_nseq_1_ind_sma_train_01-04-2017_trainendteststart_10-04-2017_testend_20-04-2017\")"
   ]
  },
  {
   "cell_type": "code",
   "execution_count": 7,
   "metadata": {},
   "outputs": [],
   "source": [
    "saved_obj.input_tech_indicators_list.append(\"rsi\")\n"
   ]
  },
  {
   "cell_type": "code",
   "execution_count": 8,
   "metadata": {},
   "outputs": [
    {
     "name": "stdout",
     "output_type": "stream",
     "text": [
      "Preprocessing the data\n",
      "Add from existing raw_pd  sma\n",
      "Downloading  rsi\n",
      "Preprocessing the data\n"
     ]
    }
   ],
   "source": [
    "saved_obj.n_lag = 5\n",
    "saved_obj.preprocess_data()\n",
    "saved_obj.input_tech_indicators_list = []\n",
    "saved_obj.preprocess_data()\n",
    "\n"
   ]
  }
 ],
 "metadata": {
  "kernelspec": {
   "display_name": "Python 3",
   "language": "python",
   "name": "python3"
  },
  "language_info": {
   "codemirror_mode": {
    "name": "ipython",
    "version": 3
   },
   "file_extension": ".py",
   "mimetype": "text/x-python",
   "name": "python",
   "nbconvert_exporter": "python",
   "pygments_lexer": "ipython3",
   "version": "3.5.6"
  }
 },
 "nbformat": 4,
 "nbformat_minor": 2
}

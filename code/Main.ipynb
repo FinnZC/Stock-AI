{
 "cells": [
  {
   "cell_type": "code",
   "execution_count": 3,
   "metadata": {},
   "outputs": [
    {
     "name": "stdout",
     "output_type": "stream",
     "text": [
      "Populating the interactive namespace from numpy and matplotlib\n"
     ]
    },
    {
     "name": "stderr",
     "output_type": "stream",
     "text": [
      "D:\\Softwares\\Miniconda3\\envs\\Hons\\lib\\site-packages\\IPython\\core\\magics\\pylab.py:160: UserWarning: pylab import has clobbered these variables: ['time']\n",
      "`%matplotlib` prevents importing * from pylab and numpy\n",
      "  \"\\n`%matplotlib` prevents importing * from pylab and numpy\"\n"
     ]
    }
   ],
   "source": [
    "# Normalise features\n",
    "# Find the optimal parameters C (inverse regulalisation strengths)\n",
    "# Find the best features to predict stock movement (up or down)\n",
    "# Convert probability into absolute values (stock % increase/decrease)\n",
    "# SVC, RandomForest, MinMax, LongShortTermMemory\n",
    "\n",
    "%matplotlib inline\n",
    "%pylab inline\n",
    "\n",
    "# Nice Formatting within Jupyter Notebook\n",
    "%matplotlib inline\n",
    "from IPython.display import display # Allows multiple displays from a single code-cell\n",
    "from jupyterthemes import jtplot\n",
    "\n",
    "#import classes\n",
    "from company import Company\n",
    "from onestep_baseline_company import OneStepBaselineCompany\n",
    "from onestep_lstm_company import OneStepLSTMCompany\n",
    "from multistep_baseline_company import MultiStepBaselineCompany\n",
    "from multistep_lstm_company import MultiStepLSTMCompany\n",
    "\n",
    "jtplot.style(theme='grade3')\n",
    "jtplot.style(theme='grade3')\n",
    "jtplot.style(theme='grade3')\n"
   ]
  },
  {
   "cell_type": "code",
   "execution_count": null,
   "metadata": {},
   "outputs": [],
   "source": [
    "start_train_date = \"01/01/2018\"\n",
    "end_train_start_test_date = \"01/02/2018\"\n",
    "end_test_date = \"01/03/2018\"\n",
    "\n",
    "one_step_lstm = OneStepLSTMCompany(\"MU\", start_train_date, end_train_start_test_date, end_test_date, \n",
    "                         n_epochs=3000, n_batch=1, n_neurons=4)\n",
    "one_step_lstm.train()\n"
   ]
  },
  {
   "cell_type": "code",
   "execution_count": null,
   "metadata": {
    "scrolled": true
   },
   "outputs": [],
   "source": [
    "predictions = one_step_lstm.predict()\n",
    "one_step_lstm.plot(predictions)\n",
    "\n",
    "lstm_score = one_step_lstm.score(metric=\"rmse\", predictions=predictions)\n",
    "print(\"LSTM RMSE Score: %.3f US dollar\" % lstm_score)\n",
    "trend_score = one_step_lstm.score(metric=\"trend\", predictions=predictions)\n",
    "print(\"LSTM trend Score: %.1f %%\" % (trend_score*100))\n",
    "\n",
    "print(\"\\n\")\n",
    "one_day_pred = one_step_lstm.forecast_lstm_one_step()\n",
    "one_step_lstm.plot(one_day_pred)"
   ]
  },
  {
   "cell_type": "code",
   "execution_count": 124,
   "metadata": {},
   "outputs": [],
   "source": []
  },
  {
   "cell_type": "code",
   "execution_count": 125,
   "metadata": {},
   "outputs": [
    {
     "data": {
      "text/plain": [
       "'data series'"
      ]
     },
     "metadata": {},
     "output_type": "display_data"
    },
    {
     "data": {
      "text/plain": [
       "date\n",
       "2018-01-02    43.67\n",
       "2018-01-03    44.98\n",
       "2018-01-04    46.88\n",
       "2018-01-05    45.80\n",
       "2018-01-08    45.55\n",
       "2018-01-09    42.97\n",
       "2018-01-10    43.31\n",
       "2018-01-11    42.82\n",
       "2018-01-12    42.81\n",
       "2018-01-16    42.92\n",
       "2018-01-17    44.26\n",
       "2018-01-18    43.99\n",
       "2018-01-19    42.75\n",
       "2018-01-22    42.88\n",
       "2018-01-23    43.95\n",
       "2018-01-24    43.08\n",
       "2018-01-25    43.01\n",
       "2018-01-26    43.67\n",
       "2018-01-29    43.29\n",
       "2018-01-30    41.67\n",
       "Name: 5. adjusted close, dtype: float64"
      ]
     },
     "metadata": {},
     "output_type": "display_data"
    },
    {
     "data": {
      "text/plain": [
       "'scaled train supervised'"
      ]
     },
     "metadata": {},
     "output_type": "display_data"
    },
    {
     "data": {
      "text/plain": [
       "array([[ 0.73660714,  1.        , -0.33035714,  0.04017857, -1.        ,\n",
       "         0.30357143],\n",
       "       [ 1.        , -0.33035714,  0.04017857, -1.        ,  0.30357143,\n",
       "        -0.06696429],\n",
       "       [-0.33035714,  0.04017857, -1.        ,  0.30357143, -0.06696429,\n",
       "         0.14732143],\n",
       "       [ 0.04017857, -1.        ,  0.30357143, -0.06696429,  0.14732143,\n",
       "         0.20089286],\n",
       "       [-1.        ,  0.30357143, -0.06696429,  0.14732143,  0.20089286,\n",
       "         0.75      ],\n",
       "       [ 0.30357143, -0.06696429,  0.14732143,  0.20089286,  0.75      ,\n",
       "         0.03125   ],\n",
       "       [-0.06696429,  0.14732143,  0.20089286,  0.75      ,  0.03125   ,\n",
       "        -0.40178571]])"
      ]
     },
     "metadata": {},
     "output_type": "display_data"
    },
    {
     "data": {
      "text/plain": [
       "'scaled test supervised'"
      ]
     },
     "metadata": {},
     "output_type": "display_data"
    },
    {
     "data": {
      "text/plain": [
       "array([[ 0.75      ,  0.03125   , -0.40178571,  0.20982143,  0.62946429,\n",
       "        -0.23660714],\n",
       "       [ 0.03125   , -0.40178571,  0.20982143,  0.62946429, -0.23660714,\n",
       "         0.12053571],\n",
       "       [-0.40178571,  0.20982143,  0.62946429, -0.23660714,  0.12053571,\n",
       "         0.44642857],\n",
       "       [ 0.20982143,  0.62946429, -0.23660714,  0.12053571,  0.44642857,\n",
       "        -0.01785714],\n",
       "       [ 0.62946429, -0.23660714,  0.12053571,  0.44642857, -0.01785714,\n",
       "        -0.57142857]])"
      ]
     },
     "metadata": {},
     "output_type": "display_data"
    },
    {
     "name": "stdout",
     "output_type": "stream",
     "text": [
      "Fitting the model\n"
     ]
    },
    {
     "data": {
      "text/plain": [
       "'train X data'"
      ]
     },
     "metadata": {},
     "output_type": "display_data"
    },
    {
     "data": {
      "text/plain": [
       "array([[[ 0.73660714,  1.        , -0.33035714]],\n",
       "\n",
       "       [[ 1.        , -0.33035714,  0.04017857]],\n",
       "\n",
       "       [[-0.33035714,  0.04017857, -1.        ]],\n",
       "\n",
       "       [[ 0.04017857, -1.        ,  0.30357143]],\n",
       "\n",
       "       [[-1.        ,  0.30357143, -0.06696429]],\n",
       "\n",
       "       [[ 0.30357143, -0.06696429,  0.14732143]],\n",
       "\n",
       "       [[-0.06696429,  0.14732143,  0.20089286]]])"
      ]
     },
     "metadata": {},
     "output_type": "display_data"
    },
    {
     "data": {
      "text/plain": [
       "'train y data'"
      ]
     },
     "metadata": {},
     "output_type": "display_data"
    },
    {
     "data": {
      "text/plain": [
       "array([[ 0.04017857, -1.        ,  0.30357143],\n",
       "       [-1.        ,  0.30357143, -0.06696429],\n",
       "       [ 0.30357143, -0.06696429,  0.14732143],\n",
       "       [-0.06696429,  0.14732143,  0.20089286],\n",
       "       [ 0.14732143,  0.20089286,  0.75      ],\n",
       "       [ 0.20089286,  0.75      ,  0.03125   ],\n",
       "       [ 0.75      ,  0.03125   , -0.40178571]])"
      ]
     },
     "metadata": {},
     "output_type": "display_data"
    },
    {
     "name": "stdout",
     "output_type": "stream",
     "text": [
      "Finished fitting the model, time taken to train: 29.8 s\n"
     ]
    }
   ],
   "source": [
    "start_train_date = \"01/01/2018\"\n",
    "end_train_start_test_date = \"20/01/2018\"\n",
    "end_test_date = \"30/01/2018\"\n",
    "\n",
    "multi_step_lstm = MultiStepLSTMCompany(\"MU\", start_train_date, end_train_start_test_date, end_test_date, \n",
    "                         n_lag=3, n_seq=3, n_epochs=3000, n_batch=1, n_neurons=4)\n",
    "\n",
    "multi_step_lstm.train()"
   ]
  },
  {
   "cell_type": "code",
   "execution_count": 126,
   "metadata": {
    "scrolled": true
   },
   "outputs": [
    {
     "name": "stdout",
     "output_type": "stream",
     "text": [
      "X:  [ 0.75        0.03125    -0.40178571] y:  [ 0.20982143  0.62946429 -0.23660714]\n",
      "Prediction:  [0.63366735, 0.77443, -0.06593834]\n",
      "X:  [ 0.03125    -0.40178571  0.20982143] y:  [ 0.62946429 -0.23660714  0.12053571]\n",
      "Prediction:  [0.64040124, 0.25820088, -0.03804387]\n",
      "X:  [-0.40178571  0.20982143  0.62946429] y:  [-0.23660714  0.12053571  0.44642857]\n",
      "Prediction:  [1.1463139, -0.8754102, -0.6830945]\n",
      "X:  [ 0.20982143  0.62946429 -0.23660714] y:  [ 0.12053571  0.44642857 -0.01785714]\n",
      "Prediction:  [1.5961684, -1.0773103, -0.3043568]\n",
      "X:  [ 0.62946429 -0.23660714  0.12053571] y:  [ 0.44642857 -0.01785714 -0.57142857]\n",
      "Prediction:  [1.2289705, -0.6966689, 0.050822683]\n",
      "Inverse scale  Original Pred:  [[ 0.63366735]\n",
      " [ 0.77443   ]\n",
      " [-0.06593834]]    After Scaling:  [[ 1.0794148]\n",
      " [ 1.394723 ]\n",
      " [-0.4877019]]\n",
      "Inverse difference Pred:  [1.0794148]   + Reference Price: 42.75  =  [43.829414]\n",
      "Inverse difference Pred:  [1.394723]   + Reference Price: [43.829414]  =  [45.224136]\n",
      "Inverse difference Pred:  [-0.4877019]   + Reference Price: [45.224136]  =  [44.736435]\n",
      "Final inverted values:  [array([43.829414], dtype=float32), array([45.224136], dtype=float32), array([44.736435], dtype=float32)]\n",
      "Inverse scale  Original Pred:  [[ 0.64040124]\n",
      " [ 0.25820088]\n",
      " [-0.03804387]]    After Scaling:  [[ 1.0944989 ]\n",
      " [ 0.23836997]\n",
      " [-0.42521828]]\n",
      "Inverse difference Pred:  [1.0944989]   + Reference Price: 42.88  =  [43.9745]\n",
      "Inverse difference Pred:  [0.23836997]   + Reference Price: [43.9745]  =  [44.212868]\n",
      "Inverse difference Pred:  [-0.42521828]   + Reference Price: [44.212868]  =  [43.78765]\n",
      "Final inverted values:  [array([43.9745], dtype=float32), array([44.212868], dtype=float32), array([43.78765], dtype=float32)]\n",
      "Inverse scale  Original Pred:  [[ 1.1463139]\n",
      " [-0.8754102]\n",
      " [-0.6830945]]    After Scaling:  [[ 2.2277431]\n",
      " [-2.3009188]\n",
      " [-1.8701317]]\n",
      "Inverse difference Pred:  [2.2277431]   + Reference Price: 43.95  =  [46.177742]\n",
      "Inverse difference Pred:  [-2.3009188]   + Reference Price: [46.177742]  =  [43.876823]\n",
      "Inverse difference Pred:  [-1.8701317]   + Reference Price: [43.876823]  =  [42.00669]\n",
      "Final inverted values:  [array([46.177742], dtype=float32), array([43.876823], dtype=float32), array([42.00669], dtype=float32)]\n",
      "Inverse scale  Original Pred:  [[ 1.5961684]\n",
      " [-1.0773103]\n",
      " [-0.3043568]]    After Scaling:  [[ 3.2354171]\n",
      " [-2.7531753]\n",
      " [-1.0217593]]\n",
      "Inverse difference Pred:  [3.2354171]   + Reference Price: 43.08  =  [46.31542]\n",
      "Inverse difference Pred:  [-2.7531753]   + Reference Price: [46.31542]  =  [43.562244]\n",
      "Inverse difference Pred:  [-1.0217593]   + Reference Price: [43.562244]  =  [42.540485]\n",
      "Final inverted values:  [array([46.31542], dtype=float32), array([43.562244], dtype=float32), array([42.540485], dtype=float32)]\n",
      "Inverse scale  Original Pred:  [[ 1.2289705 ]\n",
      " [-0.6966689 ]\n",
      " [ 0.05082268]]    After Scaling:  [[ 2.412894  ]\n",
      " [-1.9005384 ]\n",
      " [-0.22615719]]\n",
      "Inverse difference Pred:  [2.412894]   + Reference Price: 43.01  =  [45.422894]\n",
      "Inverse difference Pred:  [-1.9005384]   + Reference Price: [45.422894]  =  [43.522354]\n",
      "Inverse difference Pred:  [-0.22615719]   + Reference Price: [43.522354]  =  [43.296196]\n",
      "Final inverted values:  [array([45.422894], dtype=float32), array([43.522354], dtype=float32), array([43.296196], dtype=float32)]\n",
      "Predictions after inverse transform\n"
     ]
    },
    {
     "data": {
      "text/plain": [
       "2018-01-22    [[43.829414], [45.224136], [44.736435]]\n",
       "2018-01-23       [[43.9745], [44.212868], [43.78765]]\n",
       "2018-01-24     [[46.177742], [43.876823], [42.00669]]\n",
       "2018-01-25     [[46.31542], [43.562244], [42.540485]]\n",
       "2018-01-26    [[45.422894], [43.522354], [43.296196]]\n",
       "dtype: object"
      ]
     },
     "metadata": {},
     "output_type": "display_data"
    },
    {
     "data": {
      "image/png": "[encoded data removed]",
      "text/plain": [
       "<Figure size 1080x720 with 1 Axes>"
      ]
     },
     "metadata": {
      "needs_background": "light"
     },
     "output_type": "display_data"
    }
   ],
   "source": [
    "predictions = multi_step_lstm.predict()\n",
    "multi_step_lstm.plot(predictions)\n",
    "#display(\"next days predictions\", multi_step_lstm.forecast_lstm_one_step())"
   ]
  },
  {
   "cell_type": "code",
   "execution_count": 127,
   "metadata": {},
   "outputs": [
    {
     "name": "stdout",
     "output_type": "stream",
     "text": [
      "\n",
      "Calculating trend score for  1\n",
      "Price 1 day before:  42.75\n",
      "Actual price:  42.88  | Predicted price:  [43.829414]\n",
      "Actual trend:  up  | Predicted trend:  up\n",
      "Price 1 day before:  42.88\n",
      "Actual price:  43.95  | Predicted price:  [43.9745]\n",
      "Actual trend:  up  | Predicted trend:  up\n",
      "Price 1 day before:  43.95\n",
      "Actual price:  43.08  | Predicted price:  [46.177742]\n",
      "Actual trend:  down  | Predicted trend:  up\n",
      "Price 1 day before:  43.08\n",
      "Actual price:  43.01  | Predicted price:  [46.31542]\n",
      "Actual trend:  down  | Predicted trend:  up\n",
      "Price 1 day before:  43.01\n",
      "Actual price:  43.67  | Predicted price:  [45.422894]\n",
      "Actual trend:  up  | Predicted trend:  up\n",
      "Correct counts:  3   Size of test set: 7\n",
      "\n",
      "Calculating trend score for  2\n",
      "Price 1 day before:  42.88\n",
      "Actual price:  43.95  | Predicted price:  [45.224136]\n",
      "Actual trend:  up  | Predicted trend:  up\n",
      "Price 1 day before:  43.95\n",
      "Actual price:  43.08  | Predicted price:  [44.212868]\n",
      "Actual trend:  down  | Predicted trend:  up\n",
      "Price 1 day before:  43.08\n",
      "Actual price:  43.01  | Predicted price:  [43.876823]\n",
      "Actual trend:  down  | Predicted trend:  up\n",
      "Price 1 day before:  43.01\n",
      "Actual price:  43.67  | Predicted price:  [43.562244]\n",
      "Actual trend:  up  | Predicted trend:  up\n",
      "Price 1 day before:  43.67\n",
      "Actual price:  43.29  | Predicted price:  [43.522354]\n",
      "Actual trend:  down  | Predicted trend:  down\n",
      "Correct counts:  3   Size of test set: 7\n",
      "\n",
      "Calculating trend score for  3\n",
      "Price 1 day before:  43.95\n",
      "Actual price:  43.08  | Predicted price:  [44.736435]\n",
      "Actual trend:  down  | Predicted trend:  up\n",
      "Price 1 day before:  43.08\n",
      "Actual price:  43.01  | Predicted price:  [43.78765]\n",
      "Actual trend:  down  | Predicted trend:  up\n",
      "Price 1 day before:  43.01\n",
      "Actual price:  43.67  | Predicted price:  [42.00669]\n",
      "Actual trend:  up  | Predicted trend:  down\n",
      "Price 1 day before:  43.67\n",
      "Actual price:  43.29  | Predicted price:  [42.540485]\n",
      "Actual trend:  down  | Predicted trend:  down\n",
      "Price 1 day before:  43.29\n",
      "Actual price:  41.67  | Predicted price:  [43.296196]\n",
      "Actual trend:  down  | Predicted trend:  up\n",
      "Correct counts:  1   Size of test set: 7\n",
      "LSTM trend Score:  [0.42857142857142855, 0.42857142857142855, 0.14285714285714285]\n",
      "t+1 RMSE: 2.213433\n",
      "t+2 RMSE: 0.862994\n",
      "t+3 RMSE: 1.365386\n",
      "LSTM RMSE Score: US dollar [2.213432575298549, 0.8629942422187646, 1.3653864151217625]\n"
     ]
    }
   ],
   "source": [
    "trend_score = multi_step_lstm.score(metric=\"trend\", predictions=predictions)\n",
    "print(\"LSTM trend Score: \", trend_score)\n",
    "lstm_score = multi_step_lstm.score(metric=\"rmse\", predictions=predictions)\n",
    "print(\"LSTM RMSE Score: US dollar\", lstm_score)"
   ]
  }
 ],
 "metadata": {
  "kernelspec": {
   "display_name": "Python 3",
   "language": "python",
   "name": "python3"
  },
  "language_info": {
   "codemirror_mode": {
    "name": "ipython",
    "version": 3
   },
   "file_extension": ".py",
   "mimetype": "text/x-python",
   "name": "python",
   "nbconvert_exporter": "python",
   "pygments_lexer": "ipython3",
   "version": "3.5.6"
  }
 },
 "nbformat": 4,
 "nbformat_minor": 2
}

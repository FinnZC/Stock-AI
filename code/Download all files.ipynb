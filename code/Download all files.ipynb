{
 "cells": [
  {
   "cell_type": "code",
   "execution_count": 1,
   "metadata": {},
   "outputs": [
    {
     "name": "stderr",
     "output_type": "stream",
     "text": [
      "Using TensorFlow backend.\n"
     ]
    }
   ],
   "source": [
    "import os\n",
    "import pandas as pd\n",
    "from multistep_lstm_company import MultiStepLSTMCompany\n",
    "nasdaq_100_dict = dict()\n",
    "start_train_date = \"02/01/2009\"\n",
    "end_train_start_test_date = \"13/08/2014\"\n",
    "end_test_date = \"28/04/2017\"\n",
    "\n",
    "\n",
    "def get_all_data():\n",
    "    data = pd.read_csv(os.path.join(os.getcwd(), 'symbols', 'nasdaq100list_feb2019.csv'))\n",
    "    nasdaq_100_symbols = data[\"Symbol\"].values.tolist()\n",
    "    for symbol in nasdaq_100_symbols[40:]:\n",
    "        print(\"\\n\\nStart download for\", symbol)\n",
    "        nasdaq_100_dict[symbol] = MultiStepLSTMCompany(symbol, start_train_date, end_train_start_test_date,\n",
    "                                                           end_test_date, n_lag=1, n_seq=1, n_batch=\"full_batch\", \n",
    "                                                           tech_indicators=\"all\",\n",
    "                                                           model_type=\"vanilla\")\n",
    "        #nasdaq_100_dict[symbol].save()\n",
    "        nasdaq_100_dict[symbol].raw_pd.to_csv(\"raw_data/\" + symbol + \"_raw_pd.csv\")\n",
    "\n",
    "def get_all_data(companies):\n",
    "    for symbol in companies:\n",
    "        print(\"\\n\\nStart download for\", symbol)\n",
    "        nasdaq_100_dict[symbol] = MultiStepLSTMCompany(symbol, start_train_date, end_train_start_test_date,\n",
    "                                                           end_test_date, n_lag=1, n_seq=1, n_batch=\"full_batch\", \n",
    "                                                           tech_indicators=\"all\",\n",
    "                                                           model_type=\"vanilla\")\n",
    "        #nasdaq_100_dict[symbol].save()\n",
    "        nasdaq_100_dict[symbol].raw_pd.to_csv(\"raw_data/\" + symbol + \"_raw_pd.csv\")\n"
   ]
  },
  {
   "cell_type": "code",
   "execution_count": 3,
   "metadata": {},
   "outputs": [
    {
     "name": "stdout",
     "output_type": "stream",
     "text": [
      "\n",
      "\n",
      "Start download for CPN\n",
      "Preprocessing the data\n",
      "No existing data exist for this company so start downloading\n",
      "Downloading  ad\n",
      "Downloading  adosc\n",
      "Downloading  adx\n",
      "Downloading  adxr\n",
      "Downloading  apo\n",
      "Retrying to download indicator apo due to API limit 5 calls per minute and 500 calls per day\n",
      "Downloading  apo\n",
      "Retrying to download indicator apo due to API limit 5 calls per minute and 500 calls per day\n",
      "Downloading  apo\n",
      "Downloading  aroon\n",
      "Downloading  aroonosc\n",
      "Downloading  bbands\n",
      "Downloading  bop\n",
      "Downloading  cci\n",
      "Retrying to download indicator cci due to API limit 5 calls per minute and 500 calls per day\n",
      "Downloading  cci\n",
      "Retrying to download indicator cci due to API limit 5 calls per minute and 500 calls per day\n",
      "Downloading  cci\n",
      "Retrying to download indicator cci due to API limit 5 calls per minute and 500 calls per day\n",
      "Downloading  cci\n",
      "Downloading  cmo\n",
      "Downloading  dema\n",
      "Downloading  dx\n",
      "Downloading  ema\n",
      "Downloading  ht_dcperiod\n",
      "Retrying to download indicator ht_dcperiod due to API limit 5 calls per minute and 500 calls per day\n",
      "Downloading  ht_dcperiod\n",
      "Retrying to download indicator ht_dcperiod due to API limit 5 calls per minute and 500 calls per day\n",
      "Downloading  ht_dcperiod\n",
      "Downloading  ht_dcphase\n",
      "Downloading  ht_phasor\n",
      "Downloading  ht_sine\n",
      "Downloading  ht_trendline\n",
      "Downloading  ht_trendmode\n",
      "Retrying to download indicator ht_trendmode due to API limit 5 calls per minute and 500 calls per day\n",
      "Downloading  ht_trendmode\n",
      "Retrying to download indicator ht_trendmode due to API limit 5 calls per minute and 500 calls per day\n",
      "Downloading  ht_trendmode\n",
      "Retrying to download indicator ht_trendmode due to API limit 5 calls per minute and 500 calls per day\n",
      "Downloading  ht_trendmode\n",
      "Downloading  kama\n",
      "Downloading  macd\n",
      "Downloading  macdext\n",
      "Downloading  mama\n",
      "Downloading  mfi\n",
      "Retrying to download indicator mfi due to API limit 5 calls per minute and 500 calls per day\n",
      "Downloading  mfi\n",
      "Retrying to download indicator mfi due to API limit 5 calls per minute and 500 calls per day\n",
      "Downloading  mfi\n",
      "Downloading  midpoint\n",
      "Downloading  midprice\n",
      "Downloading  minus_di\n",
      "Downloading  minus_dm\n",
      "Downloading  mom\n",
      "Retrying to download indicator mom due to API limit 5 calls per minute and 500 calls per day\n",
      "Downloading  mom\n",
      "Retrying to download indicator mom due to API limit 5 calls per minute and 500 calls per day\n",
      "Downloading  mom\n",
      "Retrying to download indicator mom due to API limit 5 calls per minute and 500 calls per day\n",
      "Downloading  mom\n",
      "Downloading  natr\n",
      "Downloading  obv\n",
      "Downloading  plus_di\n",
      "Downloading  plus_dm\n",
      "Downloading  ppo\n",
      "Retrying to download indicator ppo due to API limit 5 calls per minute and 500 calls per day\n",
      "Downloading  ppo\n",
      "Retrying to download indicator ppo due to API limit 5 calls per minute and 500 calls per day\n",
      "Downloading  ppo\n",
      "Downloading  roc\n",
      "Downloading  rocr\n",
      "Downloading  rsi\n",
      "Downloading  sar\n",
      "Downloading  sma\n",
      "Retrying to download indicator sma due to API limit 5 calls per minute and 500 calls per day\n",
      "Downloading  sma\n",
      "Retrying to download indicator sma due to API limit 5 calls per minute and 500 calls per day\n",
      "Downloading  sma\n",
      "Retrying to download indicator sma due to API limit 5 calls per minute and 500 calls per day\n",
      "Downloading  sma\n",
      "Downloading  stoch\n",
      "Downloading  stochf\n",
      "Downloading  stochrsi\n",
      "Downloading  t3\n",
      "Downloading  tema\n",
      "Retrying to download indicator tema due to API limit 5 calls per minute and 500 calls per day\n",
      "Downloading  tema\n",
      "Retrying to download indicator tema due to API limit 5 calls per minute and 500 calls per day\n",
      "Downloading  tema\n",
      "Retrying to download indicator tema due to API limit 5 calls per minute and 500 calls per day\n",
      "Downloading  tema\n",
      "Downloading  trange\n",
      "Downloading  trima\n",
      "Downloading  trix\n",
      "Downloading  ultsoc\n",
      "Downloading  willr\n",
      "Retrying to download indicator willr due to API limit 5 calls per minute and 500 calls per day\n",
      "Downloading  willr\n",
      "Retrying to download indicator willr due to API limit 5 calls per minute and 500 calls per day\n",
      "Downloading  willr\n",
      "Downloading  wma\n"
     ]
    },
    {
     "name": "stderr",
     "output_type": "stream",
     "text": [
      "D:\\Github\\Hons-Project\\code\\company.py:50: SettingWithCopyWarning: \n",
      "A value is trying to be set on a copy of a slice from a DataFrame\n",
      "\n",
      "See the caveats in the documentation: http://pandas.pydata.org/pandas-docs/stable/indexing.html#indexing-view-versus-copy\n",
      "  relevant_series_range.dropna(inplace=True)\n"
     ]
    },
    {
     "name": "stdout",
     "output_type": "stream",
     "text": [
      "Preprocessed data in  9.818359756469727 mins\n"
     ]
    },
    {
     "data": {
      "text/plain": [
       "'data = pd.read_csv(\"raw_data/AAPL_raw_pd.csv\", index_col=0)\\n#pd.to_csv(\"test_raw_pd.csv\")\\n\\nprice.index = data.index\\ndata.index = pd.to_datetime(data.index)\\nprice = data[\"Share Price\"]\\nprice.index'"
      ]
     },
     "execution_count": 3,
     "metadata": {},
     "output_type": "execute_result"
    }
   ],
   "source": [
    "get_all_data([\"CPN\"])\n",
    "\"\"\"data = pd.read_csv(\"raw_data/AAPL_raw_pd.csv\", index_col=0)\n",
    "#pd.to_csv(\"test_raw_pd.csv\")\n",
    "\n",
    "price.index = data.index\n",
    "data.index = pd.to_datetime(data.index)\n",
    "price = data[\"Share Price\"]\n",
    "price.index\"\"\""
   ]
  }
 ],
 "metadata": {
  "kernelspec": {
   "display_name": "Python 3",
   "language": "python",
   "name": "python3"
  },
  "language_info": {
   "codemirror_mode": {
    "name": "ipython",
    "version": 3
   },
   "file_extension": ".py",
   "mimetype": "text/x-python",
   "name": "python",
   "nbconvert_exporter": "python",
   "pygments_lexer": "ipython3",
   "version": "3.6.7"
  }
 },
 "nbformat": 4,
 "nbformat_minor": 2
}

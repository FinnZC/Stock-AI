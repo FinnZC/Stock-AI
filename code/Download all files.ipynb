{
 "cells": [
  {
   "cell_type": "code",
   "execution_count": 1,
   "metadata": {},
   "outputs": [],
   "source": [
    "import pandas as pd\n",
    "import os"
   ]
  },
  {
   "cell_type": "code",
   "execution_count": 2,
   "metadata": {},
   "outputs": [],
   "source": [
    "data = pd.read_csv(os.path.join(os.getcwd(), 'symbols', 'nasdaq100list_feb2019.csv'))\n",
    "nasdaq_100_symbols = data[\"Symbol\"].values.tolist()"
   ]
  },
  {
   "cell_type": "code",
   "execution_count": 3,
   "metadata": {},
   "outputs": [
    {
     "data": {
      "text/plain": [
       "['ATVI',\n",
       " 'ADBE',\n",
       " 'AMD',\n",
       " 'ALXN',\n",
       " 'ALGN',\n",
       " 'GOOG',\n",
       " 'GOOGL',\n",
       " 'AMZN',\n",
       " 'AAL',\n",
       " 'AMGN',\n",
       " 'ADI',\n",
       " 'AAPL',\n",
       " 'AMAT',\n",
       " 'ASML',\n",
       " 'ADSK',\n",
       " 'ADP',\n",
       " 'BIDU',\n",
       " 'BIIB',\n",
       " 'BMRN',\n",
       " 'BKNG',\n",
       " 'AVGO',\n",
       " 'CDNS',\n",
       " 'CELG',\n",
       " 'CERN',\n",
       " 'CHTR',\n",
       " 'CHKP',\n",
       " 'CTAS',\n",
       " 'CSCO',\n",
       " 'CTXS',\n",
       " 'CTSH',\n",
       " 'CMCSA',\n",
       " 'COST',\n",
       " 'CSX',\n",
       " 'CTRP',\n",
       " 'DLTR',\n",
       " 'EBAY',\n",
       " 'EA',\n",
       " 'EXPE',\n",
       " 'FB',\n",
       " 'FAST',\n",
       " 'FISV',\n",
       " 'GILD',\n",
       " 'HAS',\n",
       " 'HSIC',\n",
       " 'IDXX',\n",
       " 'ILMN',\n",
       " 'INCY',\n",
       " 'INTC',\n",
       " 'INTU',\n",
       " 'ISRG',\n",
       " 'JBHT',\n",
       " 'JD',\n",
       " 'KLAC',\n",
       " 'LRCX',\n",
       " 'LBTYA',\n",
       " 'LBTYK',\n",
       " 'LULU',\n",
       " 'MAR',\n",
       " 'MXIM',\n",
       " 'MELI',\n",
       " 'MCHP',\n",
       " 'MU',\n",
       " 'MSFT',\n",
       " 'MDLZ',\n",
       " 'MNST',\n",
       " 'MYL',\n",
       " 'NTAP',\n",
       " 'NTES',\n",
       " 'NFLX',\n",
       " 'NVDA',\n",
       " 'NXPI',\n",
       " 'ORLY',\n",
       " 'PCAR',\n",
       " 'PAYX',\n",
       " 'PYPL',\n",
       " 'PEP',\n",
       " 'QCOM',\n",
       " 'REGN',\n",
       " 'ROST',\n",
       " 'SIRI',\n",
       " 'SWKS',\n",
       " 'SBUX',\n",
       " 'SYMC',\n",
       " 'SNPS',\n",
       " 'TMUS',\n",
       " 'TTWO',\n",
       " 'TSLA',\n",
       " 'TXN',\n",
       " 'KHC',\n",
       " 'FOX',\n",
       " 'FOXA',\n",
       " 'ULTA',\n",
       " 'UAL',\n",
       " 'VRSN',\n",
       " 'VRSK',\n",
       " 'VRTX',\n",
       " 'WBA',\n",
       " 'WDC',\n",
       " 'WLTW',\n",
       " 'WDAY',\n",
       " 'WYNN',\n",
       " 'XEL',\n",
       " 'XLNX']"
      ]
     },
     "execution_count": 3,
     "metadata": {},
     "output_type": "execute_result"
    }
   ],
   "source": [
    "nasdaq_100_symbols"
   ]
  }
 ],
 "metadata": {
  "kernelspec": {
   "display_name": "Python 3",
   "language": "python",
   "name": "python3"
  },
  "language_info": {
   "codemirror_mode": {
    "name": "ipython",
    "version": 3
   },
   "file_extension": ".py",
   "mimetype": "text/x-python",
   "name": "python",
   "nbconvert_exporter": "python",
   "pygments_lexer": "ipython3",
   "version": "3.5.6"
  }
 },
 "nbformat": 4,
 "nbformat_minor": 2
}

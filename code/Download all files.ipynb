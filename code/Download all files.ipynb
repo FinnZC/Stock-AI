{
 "cells": [
  {
   "cell_type": "code",
   "execution_count": 1,
   "metadata": {},
   "outputs": [
    {
     "name": "stderr",
     "output_type": "stream",
     "text": [
      "Using TensorFlow backend.\n"
     ]
    }
   ],
   "source": [
    "import os\n",
    "import pandas as pd\n",
    "from multistep_lstm_company import MultiStepLSTMCompany\n",
    "nasdaq_100_dict = dict()\n",
    "start_train_date = \"01/01/2017\"\n",
    "end_train_start_test_date = \"10/01/2017\"\n",
    "end_test_date = \"20/01/2017\"\n",
    "\n",
    "def get_all_data():\n",
    "    data = pd.read_csv(os.path.join(os.getcwd(), 'symbols', 'nasdaq100list_feb2019.csv'))\n",
    "    nasdaq_100_symbols = data[\"Symbol\"].values.tolist()\n",
    "    for symbol in nasdaq_100_symbols[40:]:\n",
    "        print(\"\\n\\nStart download for\", symbol)\n",
    "        nasdaq_100_dict[symbol] = MultiStepLSTMCompany(symbol, start_train_date, end_train_start_test_date,\n",
    "                                                           end_test_date, n_lag=1, n_seq=1, n_batch=\"full_batch\", \n",
    "                                                           tech_indicators=\"all\",\n",
    "                                                           model_type=\"vanilla\")\n",
    "        #nasdaq_100_dict[symbol].save()\n",
    "        nasdaq_100_dict[symbol].raw_pd.to_csv(\"raw_data/\" + symbol + \"_raw_pd.csv\")\n",
    "\n",
    "def get_all_data(companies):\n",
    "    for symbol in companies:\n",
    "        print(\"\\n\\nStart download for\", symbol)\n",
    "        nasdaq_100_dict[symbol] = MultiStepLSTMCompany(symbol, start_train_date, end_train_start_test_date,\n",
    "                                                           end_test_date, n_lag=1, n_seq=1, n_batch=\"full_batch\", \n",
    "                                                           tech_indicators=\"all\",\n",
    "                                                           model_type=\"vanilla\")\n",
    "        #nasdaq_100_dict[symbol].save()\n",
    "        nasdaq_100_dict[symbol].raw_pd.to_csv(\"raw_data/\" + symbol + \"_raw_pd.csv\")\n"
   ]
  },
  {
   "cell_type": "code",
   "execution_count": null,
   "metadata": {},
   "outputs": [
    {
     "name": "stdout",
     "output_type": "stream",
     "text": [
      "\n",
      "\n",
      "Start download for INFY\n",
      "Preprocessing the data\n",
      "No existing data exist for this company so start downloading\n"
     ]
    },
    {
     "data": {
      "text/plain": [
       "'price data series'"
      ]
     },
     "metadata": {},
     "output_type": "display_data"
    },
    {
     "data": {
      "text/plain": [
       "5046"
      ]
     },
     "metadata": {},
     "output_type": "display_data"
    },
    {
     "data": {
      "text/plain": [
       "date\n",
       "1999-03-11     0.5548\n",
       "1999-03-12     0.5518\n",
       "1999-03-15     0.5015\n",
       "1999-03-16     0.4970\n",
       "1999-03-17     0.5000\n",
       "1999-03-18     0.5089\n",
       "1999-03-19     0.4970\n",
       "1999-03-22     0.5000\n",
       "1999-03-23     0.4779\n",
       "1999-03-24     0.4822\n",
       "1999-03-25     0.5000\n",
       "1999-03-26     0.5370\n",
       "1999-03-29     0.5429\n",
       "1999-03-30     0.5370\n",
       "1999-03-31     0.5104\n",
       "1999-04-01     0.4941\n",
       "1999-04-05     0.5148\n",
       "1999-04-06     0.4934\n",
       "1999-04-07     0.5089\n",
       "1999-04-08     0.5296\n",
       "1999-04-09     0.5207\n",
       "1999-04-12     0.5184\n",
       "1999-04-13     0.4956\n",
       "1999-04-14     0.4956\n",
       "1999-04-15     0.4956\n",
       "1999-04-16     0.5148\n",
       "1999-04-19     0.4970\n",
       "1999-04-20     0.4763\n",
       "1999-04-21     0.4734\n",
       "1999-04-22     0.5118\n",
       "               ...   \n",
       "2019-02-15    10.7600\n",
       "2019-02-19    10.5500\n",
       "2019-02-20    10.7000\n",
       "2019-02-21    10.5500\n",
       "2019-02-22    10.6300\n",
       "2019-02-25    10.8100\n",
       "2019-02-26    10.7300\n",
       "2019-02-27    10.7000\n",
       "2019-02-28    10.7200\n",
       "2019-03-01    10.8400\n",
       "2019-03-04    10.7200\n",
       "2019-03-05    10.7700\n",
       "2019-03-06    10.7100\n",
       "2019-03-07    10.4900\n",
       "2019-03-08    10.4700\n",
       "2019-03-11    10.5500\n",
       "2019-03-12    10.5200\n",
       "2019-03-13    10.5500\n",
       "2019-03-14    10.6000\n",
       "2019-03-15    10.7000\n",
       "2019-03-18    10.7200\n",
       "2019-03-19    10.9000\n",
       "2019-03-20    10.9400\n",
       "2019-03-21    11.0600\n",
       "2019-03-22    10.8800\n",
       "2019-03-25    10.8200\n",
       "2019-03-26    10.8200\n",
       "2019-03-27    10.7300\n",
       "2019-03-28    10.8800\n",
       "2019-03-29    10.9300\n",
       "Name: 5. adjusted close, Length: 5046, dtype: float64"
      ]
     },
     "metadata": {},
     "output_type": "display_data"
    },
    {
     "name": "stderr",
     "output_type": "stream",
     "text": [
      "D:\\Github\\Hons-Project\\code\\company.py:50: SettingWithCopyWarning: \n",
      "A value is trying to be set on a copy of a slice from a DataFrame\n",
      "\n",
      "See the caveats in the documentation: http://pandas.pydata.org/pandas-docs/stable/indexing.html#indexing-view-versus-copy\n",
      "  relevant_series_range.dropna(inplace=True)\n"
     ]
    },
    {
     "name": "stdout",
     "output_type": "stream",
     "text": [
      "Preprocessed data in  0.1494802514712016 mins\n",
      "\n",
      "\n",
      "Start download for TCS\n",
      "Preprocessing the data\n",
      "No existing data exist for this company so start downloading\n"
     ]
    },
    {
     "data": {
      "text/plain": [
       "'price data series'"
      ]
     },
     "metadata": {},
     "output_type": "display_data"
    },
    {
     "data": {
      "text/plain": [
       "1360"
      ]
     },
     "metadata": {},
     "output_type": "display_data"
    },
    {
     "data": {
      "text/plain": [
       "date\n",
       "2013-11-01    36.20\n",
       "2013-11-04    35.35\n",
       "2013-11-05    35.35\n",
       "2013-11-06    35.90\n",
       "2013-11-07    35.31\n",
       "2013-11-08    34.95\n",
       "2013-11-11    34.24\n",
       "2013-11-12    33.99\n",
       "2013-11-13    34.15\n",
       "2013-11-14    33.65\n",
       "2013-11-15    33.55\n",
       "2013-11-18    37.64\n",
       "2013-11-19    35.16\n",
       "2013-11-20    34.14\n",
       "2013-11-21    35.19\n",
       "2013-11-22    37.36\n",
       "2013-11-25    38.20\n",
       "2013-11-26    40.06\n",
       "2013-11-27    40.48\n",
       "2013-11-29    40.69\n",
       "2013-12-02    43.09\n",
       "2013-12-03    43.13\n",
       "2013-12-04    41.82\n",
       "2013-12-05    43.20\n",
       "2013-12-06    42.50\n",
       "2013-12-09    41.65\n",
       "2013-12-10    39.65\n",
       "2013-12-11    38.28\n",
       "2013-12-12    38.74\n",
       "2013-12-13    39.36\n",
       "              ...  \n",
       "2019-02-15     6.72\n",
       "2019-02-19     6.57\n",
       "2019-02-20     6.56\n",
       "2019-02-21     6.64\n",
       "2019-02-22     6.54\n",
       "2019-02-25     6.59\n",
       "2019-02-26     6.71\n",
       "2019-02-27     6.63\n",
       "2019-02-28     6.83\n",
       "2019-03-01     6.80\n",
       "2019-03-04     6.76\n",
       "2019-03-05     6.65\n",
       "2019-03-06     6.52\n",
       "2019-03-07     6.66\n",
       "2019-03-08     6.65\n",
       "2019-03-11     6.72\n",
       "2019-03-12     6.87\n",
       "2019-03-13     6.79\n",
       "2019-03-14     6.69\n",
       "2019-03-15     6.64\n",
       "2019-03-18     6.82\n",
       "2019-03-19     6.89\n",
       "2019-03-20     7.27\n",
       "2019-03-21     7.16\n",
       "2019-03-22     7.06\n",
       "2019-03-25     7.17\n",
       "2019-03-26     7.59\n",
       "2019-03-27     8.00\n",
       "2019-03-28     8.45\n",
       "2019-03-29     8.80\n",
       "Name: 5. adjusted close, Length: 1360, dtype: float64"
      ]
     },
     "metadata": {},
     "output_type": "display_data"
    },
    {
     "name": "stderr",
     "output_type": "stream",
     "text": [
      "D:\\Github\\Hons-Project\\code\\company.py:50: SettingWithCopyWarning: \n",
      "A value is trying to be set on a copy of a slice from a DataFrame\n",
      "\n",
      "See the caveats in the documentation: http://pandas.pydata.org/pandas-docs/stable/indexing.html#indexing-view-versus-copy\n",
      "  relevant_series_range.dropna(inplace=True)\n"
     ]
    },
    {
     "name": "stdout",
     "output_type": "stream",
     "text": [
      "Preprocessed data in  0.041692558924357095 mins\n",
      "\n",
      "\n",
      "Start download for CIPLA\n",
      "Preprocessing the data\n",
      "No existing data exist for this company so start downloading\n",
      "Retrying to download price series\n",
      "Retrying to download price series\n",
      "Retrying to download price series\n",
      "Retrying to download price series\n",
      "Retrying to download price series\n",
      "Retrying to download price series\n",
      "Retrying to download price series\n",
      "Retrying to download price series\n",
      "Retrying to download price series\n",
      "Retrying to download price series\n",
      "Retrying to download price series\n",
      "Retrying to download price series\n",
      "Retrying to download price series\n",
      "Retrying to download price series\n",
      "Retrying to download price series\n",
      "Retrying to download price series\n",
      "Retrying to download price series\n",
      "Retrying to download price series\n",
      "Retrying to download price series\n",
      "Retrying to download price series\n",
      "Retrying to download price series\n",
      "Retrying to download price series\n",
      "Retrying to download price series\n",
      "Retrying to download price series\n",
      "Retrying to download price series\n"
     ]
    }
   ],
   "source": [
    "get_all_data([\"INFY\", \"TCS\", \"CIPLA\"])\n",
    "\"\"\"data = pd.read_csv(\"raw_data/AAPL_raw_pd.csv\", index_col=0)\n",
    "#pd.to_csv(\"test_raw_pd.csv\")\n",
    "\n",
    "price.index = data.index\n",
    "data.index = pd.to_datetime(data.index)\n",
    "price = data[\"Share Price\"]\n",
    "price.index\"\"\""
   ]
  }
 ],
 "metadata": {
  "kernelspec": {
   "display_name": "Python 3",
   "language": "python",
   "name": "python3"
  },
  "language_info": {
   "codemirror_mode": {
    "name": "ipython",
    "version": 3
   },
   "file_extension": ".py",
   "mimetype": "text/x-python",
   "name": "python",
   "nbconvert_exporter": "python",
   "pygments_lexer": "ipython3",
   "version": "3.6.7"
  }
 },
 "nbformat": 4,
 "nbformat_minor": 2
}

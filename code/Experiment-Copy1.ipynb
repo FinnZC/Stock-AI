{
 "cells": [
  {
   "cell_type": "code",
   "execution_count": 1,
   "metadata": {},
   "outputs": [
    {
     "name": "stdout",
     "output_type": "stream",
     "text": [
      "Populating the interactive namespace from numpy and matplotlib\n"
     ]
    },
    {
     "name": "stderr",
     "output_type": "stream",
     "text": [
      "Using TensorFlow backend.\n"
     ]
    }
   ],
   "source": [
    "# Normalise features\n",
    "# Find the optimal parameters C (inverse regulalisation strengths)\n",
    "# Find the best features to predict stock movement (up or down)\n",
    "# Convert probability into absolute values (stock % increase/decrease)\n",
    "# SVC, RandomForest, MinMax, LongShortTermMemory\n",
    "\n",
    "%matplotlib inline\n",
    "%pylab inline\n",
    "\n",
    "# Nice Formatting within Jupyter Notebook\n",
    "%matplotlib inline\n",
    "from IPython.display import display # Allows multiple displays from a single code-cell\n",
    "from jupyterthemes import jtplot\n",
    "\n",
    "#import classes\n",
    "from utilities import *\n",
    "from company import Company\n",
    "from onestep_baseline_company import OneStepBaselineCompany\n",
    "from onestep_lstm_company import OneStepLSTMCompany\n",
    "from multistep_baseline_company import MultiStepBaselineCompany\n",
    "from multistep_lstm_company import MultiStepLSTMCompany\n",
    "\n",
    "jtplot.style(theme='grade3')\n",
    "jtplot.style(theme='grade3')\n",
    "jtplot.style(theme='grade3')\n"
   ]
  },
  {
   "cell_type": "code",
   "execution_count": null,
   "metadata": {},
   "outputs": [
    {
     "name": "stdout",
     "output_type": "stream",
     "text": [
      "Preprocessing the data\n",
      "Retrieved price series and raw pd from disk\n",
      "Preprocessed data in  0.008920300006866454 mins\n",
      "Fitting the model\n",
      "train size 1258\n",
      "train X data [[[ 0.08205322 -0.07161819 -0.11559142 ...  0.36617472 -0.14230252\n",
      "    0.83093305]\n",
      "  [ 0.17082179  0.17654675  0.04829538 ...  0.37474346  0.06750144\n",
      "    0.83807627]\n",
      "  [ 0.11022972 -0.05243281 -0.08743703 ...  0.32959552 -0.075747\n",
      "    0.83244238]]\n",
      "\n",
      " [[ 0.17082179  0.17654675  0.04829538 ...  0.37474346  0.06750144\n",
      "    0.83807627]\n",
      "  [ 0.11022972 -0.05243281 -0.08743703 ...  0.32959552 -0.075747\n",
      "    0.83244238]\n",
      "  [ 0.18377683  0.15289181  0.04666931 ...  0.47233613  0.07574595\n",
      "    0.8411994 ]]\n",
      "\n",
      " [[ 0.11022972 -0.05243281 -0.08743703 ...  0.32959552 -0.075747\n",
      "    0.83244238]\n",
      "  [ 0.18377683  0.15289181  0.04666931 ...  0.47233613  0.07574595\n",
      "    0.8411994 ]\n",
      "  [ 0.13268418  0.05064187  0.0098062  ...  0.33180988 -0.0653062\n",
      "    0.83946312]]\n",
      "\n",
      " ...\n",
      "\n",
      " [[ 0.07420465 -0.15458655 -0.0623169  ...  0.4348118  -0.06915391\n",
      "    0.78674813]\n",
      "  [ 0.05733233 -0.08691346 -0.05884239 ...  0.44988744 -0.06735131\n",
      "    0.78597004]\n",
      "  [ 0.38340468  0.252953    0.24735379 ...  0.68578382  0.12017369\n",
      "    0.79372564]]\n",
      "\n",
      " [[ 0.05733233 -0.08691346 -0.05884239 ...  0.44988744 -0.06735131\n",
      "    0.78597004]\n",
      "  [ 0.38340468  0.252953    0.24735379 ...  0.68578382  0.12017369\n",
      "    0.79372564]\n",
      "  [ 0.11579787 -0.10979238  0.03468067 ...  0.28167213 -0.03735697\n",
      "    0.7943092 ]]\n",
      "\n",
      " [[ 0.38340468  0.252953    0.24735379 ...  0.68578382  0.12017369\n",
      "    0.79372564]\n",
      "  [ 0.11579787 -0.10979238  0.03468067 ...  0.28167213 -0.03735697\n",
      "    0.7943092 ]\n",
      "  [-0.05440835 -0.10557219 -0.04978208 ...  0.03534401 -0.05555935\n",
      "    0.79040439]]]\n",
      "train y data [[ 0.18377683  0.13268418  0.06625815]\n",
      " [ 0.13268418  0.06625815  0.11932343]\n",
      " [ 0.06625815  0.11932343  0.15077366]\n",
      " ...\n",
      " [ 0.11579787 -0.05440835 -0.15185092]\n",
      " [-0.05440835 -0.15185092 -0.01022692]\n",
      " [-0.15185092 -0.01022692 -0.27397241]]\n",
      "Trained model with batch size 17\n",
      "_________________________________________________________________\n",
      "Layer (type)                 Output Shape              Param #   \n",
      "=================================================================\n",
      "lstm_1 (LSTM)                (17, 4)                   912       \n",
      "_________________________________________________________________\n",
      "dense_1 (Dense)              (17, 3)                   15        \n",
      "=================================================================\n",
      "Total params: 927\n",
      "Trainable params: 927\n",
      "Non-trainable params: 0\n",
      "_________________________________________________________________\n"
     ]
    }
   ],
   "source": [
    "import tensorflow as tf\n",
    "import os\n",
    "from keras import backend as K\n",
    "config = tf.ConfigProto(intra_op_parallelism_threads=NUM_PARALLEL_EXEC_UNITS, inter_op_parallelism_threads=2,\n",
    "                        allow_soft_placement=True, device_count={'CPU': NUM_PARALLEL_EXEC_UNITS})\n",
    "\n",
    "session = tf.Session(config=config)\n",
    "K.set_session(session)\n",
    "os.environ[\"OMP_NUM_THREADS\"] = \"NUM_PARALLEL_EXEC_UNITS\"\n",
    "os.environ[\"KMP_BLOCKTIME\"] = \"30\"\n",
    "os.environ[\"KMP_SETTINGS\"] = \"1\"\n",
    "os.environ[\"KMP_AFFINITY\"] = \"granularity=fine,verbose,compact,1,0\"\n",
    "    \n",
    "start_train_date = \"01/01/2010\"\n",
    "end_train_start_test_date = \"01/01/2015\"\n",
    "end_test_date = \"01/01/2020\"\n",
    "\n",
    "obj = MultiStepLSTMCompany(\"AAPL\", start_train_date, end_train_start_test_date, end_test_date, \n",
    "                         n_lag=3, n_seq=3, n_epochs=3000, n_batch=17, n_neurons=4, tech_indicators=\"all\", model_type=\"vanilla\")\n",
    "obj.train()"
   ]
  },
  {
   "cell_type": "code",
   "execution_count": null,
   "metadata": {
    "scrolled": false
   },
   "outputs": [],
   "source": [
    "#start_train_date = \"01/01/2010\"\n",
    "#end_train_start_test_date = \"01/01/2015\"\n",
    "#end_test_date = \"01/01/2020\"\n",
    "#obj.update_train_test_set(start_train_date, end_train_start_test_date, end_test_date)\n",
    "predictions = obj.predict()\n",
    "\n",
    "trend_score = obj.score(metric=\"trend\", predictions=predictions)\n",
    "\n",
    "lstm_score = obj.score(metric=\"rmse\", predictions=predictions)\n",
    "apre_score = obj.score(metric=\"apre\", predictions=predictions)\n",
    "print(\"LSTM trend Score: \", trend_score)\n",
    "print(\"LSTM RMSE Score: US dollar\", lstm_score)\n",
    "print(\"LSTM APRE Score: US dollar\", apre_score)"
   ]
  },
  {
   "cell_type": "code",
   "execution_count": null,
   "metadata": {},
   "outputs": [],
   "source": [
    "start_train_date = \"01/01/2010\"\n",
    "end_train_start_test_date = \"01/01/2015\"\n",
    "end_test_date = \"01/01/2020\"\n",
    "\n",
    "obj2 = MultiStepLSTMCompany(\"AAPL\", start_train_date, end_train_start_test_date, end_test_date, \n",
    "                         n_lag=3, n_seq=3, n_epochs=3000, n_batch=17, n_neurons=4, tech_indicators=\"all\", model_type=\"conv\")\n",
    "obj2.train()"
   ]
  },
  {
   "cell_type": "code",
   "execution_count": null,
   "metadata": {},
   "outputs": [],
   "source": [
    "\n",
    "predictions = obj2.predict()\n",
    "apre_score = obj2.score(metric=\"apre\", predictions=predictions)\n",
    "trend_score = obj2.score(metric=\"trend\", predictions=predictions)\n",
    "rmsq_score = obj2.score(metric=\"rmse\", predictions=predictions)\n",
    "print(\"LSTM trend Score: \", trend_score)\n",
    "print(\"LSTM RMSE Score: US dollar\", rmsq_score)\n",
    "print(\"LSTM APRE Score: US dollar\", apre_score)\n"
   ]
  },
  {
   "cell_type": "code",
   "execution_count": null,
   "metadata": {},
   "outputs": [],
   "source": [
    "start_train_date = \"01/01/2010\"\n",
    "end_train_start_test_date = \"01/01/2015\"\n",
    "end_test_date = \"01/01/2020\"\n",
    "\n",
    "obj3 = MultiStepLSTMCompany(\"AAPL\", start_train_date, end_train_start_test_date, end_test_date, \n",
    "                         n_lag=3, n_seq=3, n_epochs=3000, n_batch=17, n_neurons=4, tech_indicators=\"all\", model_type=\"bi\")\n",
    "obj3.train()"
   ]
  },
  {
   "cell_type": "code",
   "execution_count": null,
   "metadata": {},
   "outputs": [],
   "source": [
    "predictions = obj3.predict()\n",
    "apre_score = obj3.score(metric=\"apre\", predictions=predictions)\n",
    "trend_score = obj3.score(metric=\"trend\", predictions=predictions)\n",
    "rmsq_score = obj3.score(metric=\"rmse\", predictions=predictions)\n",
    "print(\"LSTM trend Score: \", trend_score)\n",
    "print(\"LSTM RMSE Score: US dollar\", rmsq_score)\n",
    "print(\"LSTM APRE Score: US dollar\", apre_score)"
   ]
  },
  {
   "cell_type": "code",
   "execution_count": null,
   "metadata": {},
   "outputs": [],
   "source": [
    "obj3.supervised_pd.shape[2]"
   ]
  }
 ],
 "metadata": {
  "kernelspec": {
   "display_name": "Python 3",
   "language": "python",
   "name": "python3"
  },
  "language_info": {
   "codemirror_mode": {
    "name": "ipython",
    "version": 3
   },
   "file_extension": ".py",
   "mimetype": "text/x-python",
   "name": "python",
   "nbconvert_exporter": "python",
   "pygments_lexer": "ipython3",
   "version": "3.6.7"
  }
 },
 "nbformat": 4,
 "nbformat_minor": 2
}
